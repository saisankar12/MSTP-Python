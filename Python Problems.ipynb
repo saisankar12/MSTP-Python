{
 "cells": [
  {
   "cell_type": "markdown",
   "metadata": {},
   "source": [
    "### Problem Set:\n",
    "\n",
    "- Function to print all numbers divisible by 6 and not a factor of 100 in a given range(lb, ub) inclusive\n",
    "- Function to find the average of cubes of all even numbers in a given range(lb, ub) inclusive\n",
    "- Function to generate the list of factors for a given number\n",
    "- Function to calculate the factorial of a given number\n",
    "- Function to check if a given number is Prime\n",
    "- Function to calculate the average first N Prime numbers\n",
    "- Function to generate all Perfect numbers in a given range\n",
    "\n",
    "### Advanced Problem Set( Optional )\n",
    "\n",
    "- Function to calculate the average of all factorials in a given range\n",
    "- Function to generate N odd Armstrong numbers\n",
    "- Function to generate Multiplication table for a number in a given range\n",
    "    - 10 in the range(100, 102) inclusive\n",
    "    - 10 x 100 = 1000\n",
    "    - 10 x 101 = 1010\n",
    "    - 10 x 102 = 1020\n",
    "    \n",
    "### Problems That needs a Try\n",
    "\n",
    "- You are given a string and your task is to swap cases. In other words, convert all lowercase letters to uppercase letters and vice versa. (The String may contain special characters).\n",
    "- Given an integer, ’n’ , perform the following conditional actions:\n",
    "    - If ‘n’  is odd, print Weird\n",
    "    - If  ‘n’ is even and in the inclusive range of 2 to 5, print Not Weird\n",
    "    - If  ‘n’ is even and in the inclusive range of 6 to 20 , print Weird\n",
    "    - If  ‘n’ is even and greater than 20, print Not Weird\n",
    "- Given the participants ‘n’ score sheet for your University Sports Day, you are required to find the runner-up score. You are given scores. Store them in a list and find the score of the runner-up. (there can be multiple winners - if their scores match). \n"
   ]
  },
  {
   "cell_type": "code",
   "execution_count": 3,
   "metadata": {},
   "outputs": [
    {
     "name": "stdout",
     "output_type": "stream",
     "text": [
      "1\n",
      "200\n",
      "6 12 18 24 30 36 42 48 54 60 66 72 78 84 90 96 102 108 114 120 126 132 138 144 150 156 162 168 174 180 186 192 198 "
     ]
    }
   ],
   "source": [
    "# Function to print all numbers divisible by 6 and not a factor of 100 in a given range(lb, ub) inclusive\n",
    "\n",
    "\n",
    "a=int(input())\n",
    "b=int(input())\n",
    "for i in range(a,b):\n",
    "    if i % 6 ==0 and i % 100!=0:\n",
    "        print(i,end=\" \")\n"
   ]
  },
  {
   "cell_type": "code",
   "execution_count": 9,
   "metadata": {},
   "outputs": [
    {
     "name": "stdout",
     "output_type": "stream",
     "text": [
      "1\n",
      "10\n",
      "200.0\n"
     ]
    }
   ],
   "source": [
    "# Function to find the average of cubes of all even numbers in a given range(lb, ub) inclusive\n",
    "\n",
    "a=int(input())\n",
    "b=int(input())\n",
    "sum = 0\n",
    "count = 0\n",
    "for i in range(a,b):\n",
    "    if (i % 2) == 0:\n",
    "        i=i**3\n",
    "        sum = sum+i\n",
    "        count = count+1\n",
    "print(sum/count)\n",
    "        "
   ]
  },
  {
   "cell_type": "code",
   "execution_count": 11,
   "metadata": {},
   "outputs": [
    {
     "name": "stdout",
     "output_type": "stream",
     "text": [
      "6\n",
      "1\n",
      "2\n",
      "3\n"
     ]
    }
   ],
   "source": [
    "# Function to generate the list of factors for a given number\n",
    "a=int(input())\n",
    "for i in range(1,a):\n",
    "    if a % i ==0:\n",
    "        print(i)\n"
   ]
  },
  {
   "cell_type": "code",
   "execution_count": 20,
   "metadata": {},
   "outputs": [
    {
     "name": "stdout",
     "output_type": "stream",
     "text": [
      "14\n",
      "The given number is not prime\n"
     ]
    }
   ],
   "source": [
    "# Function to check if a given number is Prime\n",
    "\n",
    "a=int(input())\n",
    "count = 0\n",
    "for i in range(1,a+1):\n",
    "    if a % i ==0:\n",
    "        count = count +1\n",
    "if count == 2:\n",
    "    print(\"The given number is prime\")\n",
    "else:\n",
    "    print(\"The given number is not prime\")"
   ]
  },
  {
   "cell_type": "code",
   "execution_count": 5,
   "metadata": {},
   "outputs": [
    {
     "name": "stdout",
     "output_type": "stream",
     "text": [
      "1\n",
      "30\n"
     ]
    },
    {
     "ename": "UnboundLocalError",
     "evalue": "local variable 'sum' referenced before assignment",
     "output_type": "error",
     "traceback": [
      "\u001b[1;31m---------------------------------------------------------------------------\u001b[0m",
      "\u001b[1;31mUnboundLocalError\u001b[0m                         Traceback (most recent call last)",
      "\u001b[1;32m<ipython-input-5-1c7e9df2cfc5>\u001b[0m in \u001b[0;36m<module>\u001b[1;34m\u001b[0m\n\u001b[0;32m     18\u001b[0m     \u001b[1;32melse\u001b[0m\u001b[1;33m:\u001b[0m\u001b[1;33m\u001b[0m\u001b[1;33m\u001b[0m\u001b[0m\n\u001b[0;32m     19\u001b[0m         \u001b[1;32mreturn\u001b[0m \u001b[1;32mFalse\u001b[0m\u001b[1;33m\u001b[0m\u001b[1;33m\u001b[0m\u001b[0m\n\u001b[1;32m---> 20\u001b[1;33m \u001b[0mprefectRange\u001b[0m\u001b[1;33m(\u001b[0m\u001b[0ma\u001b[0m\u001b[1;33m,\u001b[0m\u001b[0mb\u001b[0m\u001b[1;33m)\u001b[0m\u001b[1;33m\u001b[0m\u001b[1;33m\u001b[0m\u001b[0m\n\u001b[0m",
      "\u001b[1;32m<ipython-input-5-1c7e9df2cfc5>\u001b[0m in \u001b[0;36mprefectRange\u001b[1;34m(a, b)\u001b[0m\n\u001b[0;32m      8\u001b[0m \u001b[1;32mdef\u001b[0m \u001b[0mprefectRange\u001b[0m\u001b[1;33m(\u001b[0m\u001b[0ma\u001b[0m\u001b[1;33m,\u001b[0m\u001b[0mb\u001b[0m\u001b[1;33m)\u001b[0m\u001b[1;33m:\u001b[0m\u001b[1;33m\u001b[0m\u001b[1;33m\u001b[0m\u001b[0m\n\u001b[0;32m      9\u001b[0m     \u001b[1;32mfor\u001b[0m \u001b[0mi\u001b[0m \u001b[1;32min\u001b[0m \u001b[0mrange\u001b[0m\u001b[1;33m(\u001b[0m\u001b[0ma\u001b[0m\u001b[1;33m,\u001b[0m\u001b[0mb\u001b[0m\u001b[1;33m)\u001b[0m\u001b[1;33m:\u001b[0m\u001b[1;33m\u001b[0m\u001b[1;33m\u001b[0m\u001b[0m\n\u001b[1;32m---> 10\u001b[1;33m         \u001b[1;32mif\u001b[0m \u001b[0misPerfect\u001b[0m\u001b[1;33m(\u001b[0m\u001b[0mi\u001b[0m\u001b[1;33m)\u001b[0m\u001b[1;33m:\u001b[0m\u001b[1;33m\u001b[0m\u001b[1;33m\u001b[0m\u001b[0m\n\u001b[0m\u001b[0;32m     11\u001b[0m             \u001b[0mprint\u001b[0m\u001b[1;33m(\u001b[0m\u001b[0mi\u001b[0m\u001b[1;33m)\u001b[0m\u001b[1;33m\u001b[0m\u001b[1;33m\u001b[0m\u001b[0m\n\u001b[0;32m     12\u001b[0m \u001b[1;32mdef\u001b[0m \u001b[0misPerfect\u001b[0m\u001b[1;33m(\u001b[0m\u001b[0ma\u001b[0m\u001b[1;33m)\u001b[0m\u001b[1;33m:\u001b[0m\u001b[1;33m\u001b[0m\u001b[1;33m\u001b[0m\u001b[0m\n",
      "\u001b[1;32m<ipython-input-5-1c7e9df2cfc5>\u001b[0m in \u001b[0;36misPerfect\u001b[1;34m(a)\u001b[0m\n\u001b[0;32m     14\u001b[0m         \u001b[1;32mif\u001b[0m \u001b[0ma\u001b[0m \u001b[1;33m%\u001b[0m \u001b[0mj\u001b[0m \u001b[1;33m==\u001b[0m \u001b[1;36m0\u001b[0m\u001b[1;33m:\u001b[0m\u001b[1;33m\u001b[0m\u001b[1;33m\u001b[0m\u001b[0m\n\u001b[0;32m     15\u001b[0m             \u001b[0msum\u001b[0m \u001b[1;33m=\u001b[0m \u001b[0msum\u001b[0m \u001b[1;33m+\u001b[0m\u001b[0mj\u001b[0m\u001b[1;33m\u001b[0m\u001b[1;33m\u001b[0m\u001b[0m\n\u001b[1;32m---> 16\u001b[1;33m     \u001b[1;32mif\u001b[0m \u001b[0msum\u001b[0m \u001b[1;33m==\u001b[0m \u001b[0mtemp\u001b[0m\u001b[1;33m:\u001b[0m\u001b[1;33m\u001b[0m\u001b[1;33m\u001b[0m\u001b[0m\n\u001b[0m\u001b[0;32m     17\u001b[0m         \u001b[1;32mreturn\u001b[0m \u001b[1;32mTrue\u001b[0m\u001b[1;33m\u001b[0m\u001b[1;33m\u001b[0m\u001b[0m\n\u001b[0;32m     18\u001b[0m     \u001b[1;32melse\u001b[0m\u001b[1;33m:\u001b[0m\u001b[1;33m\u001b[0m\u001b[1;33m\u001b[0m\u001b[0m\n",
      "\u001b[1;31mUnboundLocalError\u001b[0m: local variable 'sum' referenced before assignment"
     ]
    }
   ],
   "source": [
    "# Function to generate all Perfect numbers in a given range\n",
    "\n",
    "a=int(input())\n",
    "b=int(input())\n",
    "sum = 0\n",
    "temp = a\n",
    "\n",
    "def prefectRange(a,b):\n",
    "    for i in range(a,b):\n",
    "        if isPerfect(i):\n",
    "            print(i)            \n",
    "def isPerfect(a):\n",
    "    for j in range(1,a):\n",
    "        if a % j == 0:\n",
    "            sum = sum +j\n",
    "    if sum == temp:\n",
    "        return True\n",
    "    else:\n",
    "        return False\n",
    "prefectRange(a,b)"
   ]
  },
  {
   "cell_type": "code",
   "execution_count": 25,
   "metadata": {},
   "outputs": [
    {
     "name": "stdout",
     "output_type": "stream",
     "text": [
      "5\n",
      "23\n",
      "34\n",
      "45\n",
      "12\n",
      "22\n",
      "runner-up-Score is :  34\n"
     ]
    }
   ],
   "source": [
    "# Given the participants ‘n’ score sheet for your University Sports Day, you are required to find the runner-up score. You are given scores. Store them in a list and find the score of the runner-up. (there can be multiple winners - if their scores match).\n",
    "\n",
    "n= int(input())\n",
    "scores=[]\n",
    "for i in range(n):\n",
    "    s= int(input())\n",
    "    scores.append(s)\n",
    "scores = sorted(scores,reverse = True)\n",
    "#scores[1]\n",
    "max_score= max(scores)\n",
    "runner_up_scores = scores[1]\n",
    "try:\n",
    "    for i in range(1,n):\n",
    "        if max_score == scores[i]:\n",
    "            runner_up_scores = scores[i+1]\n",
    "    print(\"runner-up-Score is : \",runner_up_scores)\n",
    "except:\n",
    "    print(\"There is no Runnerup Score\")\n"
   ]
  },
  {
   "cell_type": "code",
   "execution_count": 2,
   "metadata": {},
   "outputs": [
    {
     "ename": "TypeError",
     "evalue": "'type' object is not subscriptable",
     "output_type": "error",
     "traceback": [
      "\u001b[1;31m---------------------------------------------------------------------------\u001b[0m",
      "\u001b[1;31mTypeError\u001b[0m                                 Traceback (most recent call last)",
      "\u001b[1;32m<ipython-input-2-e393d5fbac51>\u001b[0m in \u001b[0;36m<module>\u001b[1;34m\u001b[0m\n\u001b[0;32m     10\u001b[0m \u001b[0mlist1\u001b[0m \u001b[1;33m=\u001b[0m \u001b[1;33m[\u001b[0m\u001b[1;36m1\u001b[0m\u001b[1;33m,\u001b[0m\u001b[1;36m1\u001b[0m\u001b[1;33m,\u001b[0m\u001b[1;36m1\u001b[0m\u001b[1;33m,\u001b[0m\u001b[1;36m1\u001b[0m\u001b[1;33m,\u001b[0m\u001b[1;36m1\u001b[0m\u001b[1;33m,\u001b[0m\u001b[1;36m1\u001b[0m\u001b[1;33m,\u001b[0m\u001b[1;36m2\u001b[0m\u001b[1;33m,\u001b[0m\u001b[1;36m2\u001b[0m\u001b[1;33m,\u001b[0m\u001b[1;36m2\u001b[0m\u001b[1;33m,\u001b[0m\u001b[1;36m2\u001b[0m\u001b[1;33m,\u001b[0m\u001b[1;36m3\u001b[0m\u001b[1;33m,\u001b[0m\u001b[1;36m3\u001b[0m\u001b[1;33m,\u001b[0m\u001b[1;36m3\u001b[0m\u001b[1;33m,\u001b[0m\u001b[1;36m1\u001b[0m\u001b[1;33m,\u001b[0m\u001b[1;36m1\u001b[0m\u001b[1;33m,\u001b[0m\u001b[1;36m1\u001b[0m\u001b[1;33m,\u001b[0m\u001b[1;36m3\u001b[0m\u001b[1;33m,\u001b[0m\u001b[1;36m3\u001b[0m\u001b[1;33m,\u001b[0m\u001b[1;36m3\u001b[0m\u001b[1;33m,\u001b[0m\u001b[1;36m3\u001b[0m\u001b[1;33m,\u001b[0m\u001b[1;36m3\u001b[0m\u001b[1;33m,\u001b[0m\u001b[1;36m3\u001b[0m\u001b[1;33m,\u001b[0m\u001b[1;36m3\u001b[0m\u001b[1;33m,\u001b[0m\u001b[1;36m2\u001b[0m\u001b[1;33m,\u001b[0m\u001b[1;36m2\u001b[0m\u001b[1;33m,\u001b[0m\u001b[1;36m3\u001b[0m\u001b[1;33m,\u001b[0m\u001b[1;36m4\u001b[0m\u001b[1;33m]\u001b[0m\u001b[1;33m\u001b[0m\u001b[1;33m\u001b[0m\u001b[0m\n\u001b[0;32m     11\u001b[0m \u001b[0mmax\u001b[0m\u001b[1;33m=\u001b[0m\u001b[1;36m0\u001b[0m\u001b[1;33m\u001b[0m\u001b[1;33m\u001b[0m\u001b[0m\n\u001b[1;32m---> 12\u001b[1;33m \u001b[0mr\u001b[0m\u001b[1;33m=\u001b[0m\u001b[0mlist\u001b[0m\u001b[1;33m[\u001b[0m\u001b[1;36m0\u001b[0m\u001b[1;33m]\u001b[0m\u001b[1;33m\u001b[0m\u001b[1;33m\u001b[0m\u001b[0m\n\u001b[0m\u001b[0;32m     13\u001b[0m \u001b[1;32mfor\u001b[0m \u001b[0mi\u001b[0m \u001b[1;32min\u001b[0m \u001b[0mlist1\u001b[0m\u001b[1;33m:\u001b[0m\u001b[1;33m\u001b[0m\u001b[1;33m\u001b[0m\u001b[0m\n\u001b[0;32m     14\u001b[0m     \u001b[0mfre\u001b[0m\u001b[1;33m=\u001b[0m\u001b[0mlist\u001b[0m\u001b[1;33m.\u001b[0m\u001b[0mcount\u001b[0m\u001b[1;33m(\u001b[0m\u001b[0mi\u001b[0m\u001b[1;33m)\u001b[0m\u001b[1;33m\u001b[0m\u001b[1;33m\u001b[0m\u001b[0m\n",
      "\u001b[1;31mTypeError\u001b[0m: 'type' object is not subscriptable"
     ]
    }
   ],
   "source": [
    "# Find the Highest Frequent element in the list\n",
    "\"\"\"[1,1,1,1,1,1,2,2,2,2,3,3,3,1,1,1,2,2,3]\n",
    "1\"\"\"\n",
    "# Find the Second Highest Frequent element in the list\n",
    "\"\"\"[1,1,1,1,1,1,2,2,2,2,3,3,3,1,1,1,2,2,3]\n",
    "2\"\"\"\n",
    "# Find the kth Highest Frequent element in the list\n",
    "\"\"\"[1,1,1,1,1,1,2,2,2,2,3,3,3,1,1,1,2,2,3]\"\"\"\n",
    "\n",
    "list1 = [1,1,1,1,1,1,2,2,2,2,3,3,3,1,1,1,3,3,3,3,3,3,3,2,2,3,4]\n",
    "max=0\n",
    "r=list[0]\n",
    "for i in list1:\n",
    "    fre=list.count(i)\n",
    "    if fre>max:\n",
    "        max = fre\n",
    "        r = i\n",
    "print(r)\n",
    "        "
   ]
  },
  {
   "cell_type": "code",
   "execution_count": 2,
   "metadata": {},
   "outputs": [
    {
     "name": "stdout",
     "output_type": "stream",
     "text": [
      "10\n",
      "20\n"
     ]
    },
    {
     "data": {
      "text/plain": [
       "10"
      ]
     },
     "execution_count": 2,
     "metadata": {},
     "output_type": "execute_result"
    }
   ],
   "source": [
    "# Find the absolute difference of two numbers\n",
    "# with out using 'abs' function\n",
    "import math\n",
    "a=int(input())\n",
    "b=int(input())\n",
    "c=a-b\n",
    "if c<0:\n",
    "    print(-c)\n",
    "else:\n",
    "    print(c)\n",
    "\n",
    "# c=math.floor((c*c)/-c)\n",
    "#c\n"
   ]
  },
  {
   "cell_type": "code",
   "execution_count": 46,
   "metadata": {},
   "outputs": [
    {
     "name": "stdout",
     "output_type": "stream",
     "text": [
      "{1: 9, 2: 6, 3: 11, 4: 1}\n",
      "[11, 9, 6, 1]\n",
      "9\n",
      "1\n",
      "2\n",
      "kth highest  [11, 9, 6, 1] 9\n"
     ]
    }
   ],
   "source": [
    "def secondFrequent(list1):\n",
    "    d={}\n",
    "    for i in list1:\n",
    "        if i in d:\n",
    "            d[i] += 1\n",
    "        else:\n",
    "            d[i] = 1\n",
    "    print(d)\n",
    "    s1=sorted(d.values(),reverse = True)\n",
    "    # s1=sorted(d.keys(),reverse = True)\n",
    "    print(s1)\n",
    "    s = s1[1]\n",
    "    print(s)\n",
    "    for k,v in d.items():\n",
    "        if s==v:\n",
    "            print(k)\n",
    "    a=int(input())\n",
    "    s2=s1[a-1]\n",
    "    print(\"kth highest \",s1,s2)\n",
    "secondFrequent(list1)\n",
    "    \n",
    "    "
   ]
  },
  {
   "cell_type": "code",
   "execution_count": 49,
   "metadata": {},
   "outputs": [
    {
     "name": "stdout",
     "output_type": "stream",
     "text": [
      "10 15\n",
      "2\n"
     ]
    }
   ],
   "source": [
    "from math import sqrt\n",
    " \n",
    "numbers=input().split(' ')\n",
    "n1=int(numbers[0])\n",
    "n2=int(numbers[1])\n",
    " \n",
    "if n2>n1:\n",
    "    n1,n2=n2,n1 \n",
    "sqrt1=int(sqrt(n1))+1\n",
    "factor_count=0\n",
    "for i in range(1, sqrt1):\n",
    "    if n1%i==0:\n",
    "        i_other=n1/i\n",
    "        if n2%i==0:\n",
    "            factor_count+=1\n",
    "        if n2%i_other==0 and i!=i_other :\n",
    "            factor_count+=1\n",
    "print (factor_count)"
   ]
  },
  {
   "cell_type": "code",
   "execution_count": 1,
   "metadata": {},
   "outputs": [
    {
     "ename": "NameError",
     "evalue": "name 'list1' is not defined",
     "output_type": "error",
     "traceback": [
      "\u001b[1;31m---------------------------------------------------------------------------\u001b[0m",
      "\u001b[1;31mNameError\u001b[0m                                 Traceback (most recent call last)",
      "\u001b[1;32m<ipython-input-1-11745c4143bf>\u001b[0m in \u001b[0;36m<module>\u001b[1;34m\u001b[0m\n\u001b[0;32m      8\u001b[0m             \u001b[0md\u001b[0m\u001b[1;33m[\u001b[0m\u001b[0mi\u001b[0m\u001b[1;33m]\u001b[0m \u001b[1;33m=\u001b[0m \u001b[0mcount\u001b[0m\u001b[1;33m\u001b[0m\u001b[1;33m\u001b[0m\u001b[0m\n\u001b[0;32m      9\u001b[0m     \u001b[1;32mreturn\u001b[0m \u001b[0md\u001b[0m\u001b[1;33m\u001b[0m\u001b[1;33m\u001b[0m\u001b[0m\n\u001b[1;32m---> 10\u001b[1;33m \u001b[0md\u001b[0m \u001b[1;33m=\u001b[0m \u001b[0mhighfrequent\u001b[0m\u001b[1;33m(\u001b[0m\u001b[0mlist1\u001b[0m\u001b[1;33m)\u001b[0m\u001b[1;33m\u001b[0m\u001b[1;33m\u001b[0m\u001b[0m\n\u001b[0m\u001b[0;32m     11\u001b[0m \u001b[0ml\u001b[0m\u001b[1;33m=\u001b[0m\u001b[0md\u001b[0m\u001b[1;33m.\u001b[0m\u001b[0mvalues\u001b[0m\u001b[1;33m(\u001b[0m\u001b[1;33m)\u001b[0m\u001b[1;33m\u001b[0m\u001b[1;33m\u001b[0m\u001b[0m\n\u001b[0;32m     12\u001b[0m \u001b[0mmax\u001b[0m\u001b[1;33m(\u001b[0m\u001b[0ml\u001b[0m\u001b[1;33m)\u001b[0m\u001b[1;33m\u001b[0m\u001b[1;33m\u001b[0m\u001b[0m\n",
      "\u001b[1;31mNameError\u001b[0m: name 'list1' is not defined"
     ]
    }
   ],
   "source": [
    "# Highest Frequest Element in the List\n",
    "\n",
    "def highfrequent(list1):\n",
    "    d={}\n",
    "    for i in list1:\n",
    "        count = list1.count(i)\n",
    "        if i not in d:\n",
    "            d[i] = count\n",
    "    return d\n",
    "d = highfrequent(list1)\n",
    "l=d.values()\n",
    "max(l)"
   ]
  },
  {
   "cell_type": "code",
   "execution_count": 61,
   "metadata": {},
   "outputs": [
    {
     "ename": "TypeError",
     "evalue": "'int' object is not callable",
     "output_type": "error",
     "traceback": [
      "\u001b[1;31m---------------------------------------------------------------------------\u001b[0m",
      "\u001b[1;31mTypeError\u001b[0m                                 Traceback (most recent call last)",
      "\u001b[1;32m<ipython-input-61-8bec3f7aab0d>\u001b[0m in \u001b[0;36m<module>\u001b[1;34m\u001b[0m\n\u001b[1;32m----> 1\u001b[1;33m \u001b[0mmax\u001b[0m\u001b[1;33m(\u001b[0m\u001b[0mlist1\u001b[0m\u001b[1;33m)\u001b[0m\u001b[1;33m\u001b[0m\u001b[1;33m\u001b[0m\u001b[0m\n\u001b[0m",
      "\u001b[1;31mTypeError\u001b[0m: 'int' object is not callable"
     ]
    }
   ],
   "source": [
    "max(list1)"
   ]
  },
  {
   "cell_type": "code",
   "execution_count": 1,
   "metadata": {},
   "outputs": [
    {
     "name": "stdout",
     "output_type": "stream",
     "text": [
      "34\n",
      "45\n",
      "23\n",
      "EXIT\n",
      "[34] 34\n"
     ]
    }
   ],
   "source": [
    "l=[]\n",
    "while(True):\n",
    "    n=input()\n",
    "    if n!= \"EXIT\":\n",
    "        if(int(n)%2==0):\n",
    "            l.append(int(n))\n",
    "    else:\n",
    "        if n == 'EXIT':\n",
    "            break    \n",
    "print(l,end=' ')\n",
    "print(max(l))\n",
    "        "
   ]
  },
  {
   "cell_type": "code",
   "execution_count": 3,
   "metadata": {},
   "outputs": [
    {
     "name": "stdout",
     "output_type": "stream",
     "text": [
      "3\n",
      "www.google.com\n",
      "www.gmail.com\n",
      "www.apssdc.in\n",
      "['www', 'apssdc', 'in']\n",
      "{'com': 2, 'in': 1}\n",
      "com\n"
     ]
    }
   ],
   "source": [
    "n=int(input())\n",
    "d={}\n",
    "for i in range(n):\n",
    "    s=input().split('.')\n",
    "    domain=s[-1]\n",
    "    if domain not in d:\n",
    "        d[domain]=1\n",
    "    else:\n",
    "        d[domain]+=1\n",
    "print(s)\n",
    "m=max(d.values())\n",
    "print(d)\n",
    "for i in d.items():\n",
    "    if i[1]==m:\n",
    "        print(i[0])"
   ]
  },
  {
   "cell_type": "code",
   "execution_count": null,
   "metadata": {},
   "outputs": [],
   "source": []
  }
 ],
 "metadata": {
  "kernelspec": {
   "display_name": "Python 3",
   "language": "python",
   "name": "python3"
  },
  "language_info": {
   "codemirror_mode": {
    "name": "ipython",
    "version": 3
   },
   "file_extension": ".py",
   "mimetype": "text/x-python",
   "name": "python",
   "nbconvert_exporter": "python",
   "pygments_lexer": "ipython3",
   "version": "3.7.3"
  }
 },
 "nbformat": 4,
 "nbformat_minor": 2
}
