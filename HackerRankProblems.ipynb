{
 "cells": [
  {
   "cell_type": "markdown",
   "metadata": {},
   "source": [
    "# Say \"Hello, World!\" With Python\n",
    "\n",
    "Here is a sample line of code that can be executed in Python:\n",
    "```\n",
    "print(\"Hello, World!\")\n",
    "```\n",
    "You can just as easily store a string as a variable and then print it to stdout:\n",
    "```\n",
    "my_string = \"Hello, World!\"\n",
    "print(my_string)\n",
    "```\n",
    "The above code will print Hello, World! on your screen. Try it yourself in the editor below!\n",
    "\n",
    "**Input Format**\n",
    "\n",
    "You do not need to read any input in this challenge.\n",
    "\n",
    "**Output Format**\n",
    "\n",
    "Print Hello, World! to stdout.\n",
    "\n",
    "Sample Output 0\n",
    "```\n",
    "Hello, World!\n",
    "```"
   ]
  },
  {
   "cell_type": "code",
   "execution_count": 7,
   "metadata": {},
   "outputs": [
    {
     "name": "stdout",
     "output_type": "stream",
     "text": [
      "Hello, World!\n"
     ]
    }
   ],
   "source": [
    "print(\"Hello, World!\")"
   ]
  },
  {
   "cell_type": "markdown",
   "metadata": {},
   "source": [
    "# Arithmetic Operators\n",
    "\n",
    "Task \n",
    "Read two integers from STDIN and print three lines where:\n",
    "\n",
    "1. The first line contains the sum of the two numbers.\n",
    "2. The second line contains the difference of the two numbers (first - second).\n",
    "3. The third line contains the product of the two numbers.\n",
    "\n",
    "**Input Format**\n",
    "\n",
    "The first line contains the first integer, . The second line contains the second integer, .\n",
    "\n",
    "**Constraints**\n",
    "1<=a<=10^10\n",
    "1<=b<=10^10\n",
    "\n",
    "**Output Format**\n",
    "\n",
    "Print the three lines as explained above.\n",
    "\n",
    "**Sample Input 0**\n",
    "```\n",
    "3\n",
    "2\n",
    "```\n",
    "**Sample Output 0** <br>\n",
    "\n",
    "5 <br>\n",
    "1 <br>\n",
    "6\n",
    "\n",
    "**Explanation 0**\n",
    "\n",
    "3+2 ==> 5 <br>\n",
    "3-2 ==> 1 <br>\n",
    "3*2 ==> 6\n"
   ]
  },
  {
   "cell_type": "code",
   "execution_count": 8,
   "metadata": {},
   "outputs": [
    {
     "name": "stdout",
     "output_type": "stream",
     "text": [
      "3\n",
      "2\n",
      "5\n",
      "1\n",
      "6\n"
     ]
    }
   ],
   "source": [
    "a = int(input())\n",
    "b = int(input())\n",
    "print(a+b)\n",
    "print(a-b)\n",
    "print(a*b)"
   ]
  },
  {
   "cell_type": "markdown",
   "metadata": {},
   "source": [
    "# What's Your Name?\n",
    "\n",
    "You are given the firstname and lastname of a person on two different lines. Your task is to read them and print the following:\n",
    "\n",
    "Hello firstname lastname! You just delved into python.\n",
    "\n",
    "**Input Format**\n",
    "\n",
    "The first line contains the first name, and the second line contains the last name.\n",
    "\n",
    "**Constraints**\n",
    "\n",
    "The length of the first and last name ≤ .\n",
    "\n",
    "**Output Format**\n",
    "\n",
    "Print the output as mentioned above.\n",
    "\n",
    "**Sample Input 0**\n",
    "```\n",
    "Ross\n",
    "Taylor\n",
    "```\n",
    "**Sample Output 0**\n",
    "```\n",
    "Hello Ross Taylor! You just delved into python.\n",
    "```\n",
    "**Explanation 0**\n",
    "\n",
    "The input read by the program is stored as a string data type. A string is a collection of characters.\n",
    "\n"
   ]
  },
  {
   "cell_type": "code",
   "execution_count": 10,
   "metadata": {},
   "outputs": [
    {
     "name": "stdout",
     "output_type": "stream",
     "text": [
      "Hello Ross Taylor! You just delved into python.\n"
     ]
    }
   ],
   "source": [
    "print(\"Hello\",'Ross','Taylor'+\"! You just delved into python.\")\n",
    "    "
   ]
  },
  {
   "cell_type": "code",
   "execution_count": 12,
   "metadata": {},
   "outputs": [
    {
     "name": "stdout",
     "output_type": "stream",
     "text": [
      "24\n",
      "Weird\n"
     ]
    }
   ],
   "source": [
    "a=int(input())\n",
    "if a%2!=0:\n",
    "    print(\"Weird\")\n",
    "else:\n",
    "    if a>20:\n",
    "        print(\"Weird\")\n",
    "    elif a in range(2,6):\n",
    "        print(\"Not Weird\")\n",
    "    elif a in range(6,21):\n",
    "        print(\"Weird\")"
   ]
  },
  {
   "cell_type": "code",
   "execution_count": 18,
   "metadata": {},
   "outputs": [
    {
     "name": "stdout",
     "output_type": "stream",
     "text": [
      "1 10 1\n",
      "10\n"
     ]
    }
   ],
   "source": [
    "l=list(map(int,input().split()))\n",
    "i =l[0]\n",
    "r =l[1]\n",
    "k =l[2]\n",
    "sum=0\n",
    "for a in range(i,r+1):\n",
    "    if a%k == 0:\n",
    "        sum=sum+1\n",
    "print(sum)\n",
    "    "
   ]
  },
  {
   "cell_type": "code",
   "execution_count": null,
   "metadata": {},
   "outputs": [],
   "source": [
    "a= int(input())"
   ]
  }
 ],
 "metadata": {
  "kernelspec": {
   "display_name": "Python 3",
   "language": "python",
   "name": "python3"
  },
  "language_info": {
   "codemirror_mode": {
    "name": "ipython",
    "version": 3
   },
   "file_extension": ".py",
   "mimetype": "text/x-python",
   "name": "python",
   "nbconvert_exporter": "python",
   "pygments_lexer": "ipython3",
   "version": "3.7.3"
  }
 },
 "nbformat": 4,
 "nbformat_minor": 2
}
