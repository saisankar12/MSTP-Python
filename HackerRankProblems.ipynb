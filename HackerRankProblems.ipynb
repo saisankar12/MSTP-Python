{
 "cells": [
  {
   "cell_type": "markdown",
   "metadata": {},
   "source": [
    "# Say \"Hello, World!\" With Python\n",
    "\n",
    "Here is a sample line of code that can be executed in Python:\n",
    "```\n",
    "print(\"Hello, World!\")\n",
    "```\n",
    "You can just as easily store a string as a variable and then print it to stdout:\n",
    "```\n",
    "my_string = \"Hello, World!\"\n",
    "print(my_string)\n",
    "```\n",
    "The above code will print Hello, World! on your screen. Try it yourself in the editor below!\n",
    "\n",
    "**Input Format**\n",
    "\n",
    "You do not need to read any input in this challenge.\n",
    "\n",
    "**Output Format**\n",
    "\n",
    "Print Hello, World! to stdout.\n",
    "\n",
    "Sample Output 0\n",
    "```\n",
    "Hello, World!\n",
    "```"
   ]
  },
  {
   "cell_type": "code",
   "execution_count": 7,
   "metadata": {},
   "outputs": [
    {
     "name": "stdout",
     "output_type": "stream",
     "text": [
      "Hello, World!\n"
     ]
    }
   ],
   "source": [
    "print(\"Hello, World!\")"
   ]
  },
  {
   "cell_type": "markdown",
   "metadata": {},
   "source": [
    "# Arithmetic Operators\n",
    "\n",
    "Task \n",
    "Read two integers from STDIN and print three lines where:\n",
    "\n",
    "1. The first line contains the sum of the two numbers.\n",
    "2. The second line contains the difference of the two numbers (first - second).\n",
    "3. The third line contains the product of the two numbers.\n",
    "\n",
    "**Input Format**\n",
    "\n",
    "The first line contains the first integer, . The second line contains the second integer, .\n",
    "\n",
    "**Constraints**\n",
    "1<=a<=10^10\n",
    "1<=b<=10^10\n",
    "\n",
    "**Output Format**\n",
    "\n",
    "Print the three lines as explained above.\n",
    "\n",
    "**Sample Input 0**\n",
    "```\n",
    "3\n",
    "2\n",
    "```\n",
    "**Sample Output 0** <br>\n",
    "\n",
    "5 <br>\n",
    "1 <br>\n",
    "6\n",
    "\n",
    "**Explanation 0**\n",
    "\n",
    "3+2 ==> 5 <br>\n",
    "3-2 ==> 1 <br>\n",
    "3*2 ==> 6\n"
   ]
  },
  {
   "cell_type": "code",
   "execution_count": 8,
   "metadata": {},
   "outputs": [
    {
     "name": "stdout",
     "output_type": "stream",
     "text": [
      "3\n",
      "2\n",
      "5\n",
      "1\n",
      "6\n"
     ]
    }
   ],
   "source": [
    "a = int(input())\n",
    "b = int(input())\n",
    "print(a+b)\n",
    "print(a-b)\n",
    "print(a*b)"
   ]
  },
  {
   "cell_type": "markdown",
   "metadata": {},
   "source": [
    "# What's Your Name?\n",
    "\n",
    "You are given the firstname and lastname of a person on two different lines. Your task is to read them and print the following:\n",
    "\n",
    "Hello firstname lastname! You just delved into python.\n",
    "\n",
    "**Input Format**\n",
    "\n",
    "The first line contains the first name, and the second line contains the last name.\n",
    "\n",
    "**Constraints**\n",
    "\n",
    "The length of the first and last name ≤ .\n",
    "\n",
    "**Output Format**\n",
    "\n",
    "Print the output as mentioned above.\n",
    "\n",
    "**Sample Input 0**\n",
    "```\n",
    "Ross\n",
    "Taylor\n",
    "```\n",
    "**Sample Output 0**\n",
    "```\n",
    "Hello Ross Taylor! You just delved into python.\n",
    "```\n",
    "**Explanation 0**\n",
    "\n",
    "The input read by the program is stored as a string data type. A string is a collection of characters.\n",
    "\n"
   ]
  },
  {
   "cell_type": "code",
   "execution_count": 10,
   "metadata": {},
   "outputs": [
    {
     "name": "stdout",
     "output_type": "stream",
     "text": [
      "Hello Ross Taylor! You just delved into python.\n"
     ]
    }
   ],
   "source": [
    "print(\"Hello\",'Ross','Taylor'+\"! You just delved into python.\")\n",
    "    "
   ]
  },
  {
   "cell_type": "code",
   "execution_count": 12,
   "metadata": {},
   "outputs": [
    {
     "name": "stdout",
     "output_type": "stream",
     "text": [
      "24\n",
      "Weird\n"
     ]
    }
   ],
   "source": [
    "a=int(input())\n",
    "if a%2!=0:\n",
    "    print(\"Weird\")\n",
    "else:\n",
    "    if a>20:\n",
    "        print(\"Weird\")\n",
    "    elif a in range(2,6):\n",
    "        print(\"Not Weird\")\n",
    "    elif a in range(6,21):\n",
    "        print(\"Weird\")"
   ]
  },
  {
   "cell_type": "code",
   "execution_count": 18,
   "metadata": {},
   "outputs": [
    {
     "name": "stdout",
     "output_type": "stream",
     "text": [
      "1 10 1\n",
      "10\n"
     ]
    }
   ],
   "source": [
    "l=list(map(int,input().split()))\n",
    "i =l[0]\n",
    "r =l[1]\n",
    "k =l[2]\n",
    "sum=0\n",
    "for a in range(i,r+1):\n",
    "    if a%k == 0:\n",
    "        sum=sum+1\n",
    "print(sum)\n",
    "    "
   ]
  },
  {
   "cell_type": "code",
   "execution_count": 20,
   "metadata": {},
   "outputs": [
    {
     "name": "stdout",
     "output_type": "stream",
     "text": [
      "3 -9 4\n"
     ]
    },
    {
     "ename": "ValueError",
     "evalue": "invalid literal for int() with base 10: '3 -9 4'",
     "output_type": "error",
     "traceback": [
      "\u001b[1;31m---------------------------------------------------------------------------\u001b[0m",
      "\u001b[1;31mValueError\u001b[0m                                Traceback (most recent call last)",
      "\u001b[1;32m<ipython-input-20-02e4d79fd7fb>\u001b[0m in \u001b[0;36m<module>\u001b[1;34m\u001b[0m\n\u001b[1;32m----> 1\u001b[1;33m \u001b[0mn\u001b[0m \u001b[1;33m=\u001b[0m \u001b[0mint\u001b[0m\u001b[1;33m(\u001b[0m\u001b[0minput\u001b[0m\u001b[1;33m(\u001b[0m\u001b[1;33m)\u001b[0m\u001b[1;33m)\u001b[0m\u001b[1;33m\u001b[0m\u001b[1;33m\u001b[0m\u001b[0m\n\u001b[0m\u001b[0;32m      2\u001b[0m \u001b[1;33m\u001b[0m\u001b[0m\n\u001b[0;32m      3\u001b[0m \u001b[1;32mfor\u001b[0m \u001b[0mi\u001b[0m \u001b[1;32min\u001b[0m \u001b[0mrange\u001b[0m\u001b[1;33m(\u001b[0m\u001b[0mn\u001b[0m\u001b[1;33m)\u001b[0m\u001b[1;33m:\u001b[0m\u001b[1;33m\u001b[0m\u001b[1;33m\u001b[0m\u001b[0m\n\u001b[0;32m      4\u001b[0m     \u001b[0ms\u001b[0m\u001b[1;33m=\u001b[0m\u001b[1;36m0\u001b[0m\u001b[1;33m\u001b[0m\u001b[1;33m\u001b[0m\u001b[0m\n\u001b[0;32m      5\u001b[0m     \u001b[0ml\u001b[0m\u001b[1;33m=\u001b[0m\u001b[0mlist\u001b[0m\u001b[1;33m(\u001b[0m\u001b[0mmap\u001b[0m\u001b[1;33m(\u001b[0m\u001b[0mint\u001b[0m\u001b[1;33m,\u001b[0m\u001b[0minput\u001b[0m\u001b[1;33m(\u001b[0m\u001b[1;33m)\u001b[0m\u001b[1;33m.\u001b[0m\u001b[0msplit\u001b[0m\u001b[1;33m(\u001b[0m\u001b[1;33m)\u001b[0m\u001b[1;33m)\u001b[0m\u001b[1;33m)\u001b[0m\u001b[1;33m\u001b[0m\u001b[1;33m\u001b[0m\u001b[0m\n",
      "\u001b[1;31mValueError\u001b[0m: invalid literal for int() with base 10: '3 -9 4'"
     ]
    }
   ],
   "source": [
    "n = int(input())\n",
    "\n",
    "for i in range(n):\n",
    "    s=0\n",
    "    l=list(map(int,input().split()))\n",
    "    for j in l:\n",
    "        s += (int(j)*-1)\n",
    "    print(s)\n"
   ]
  },
  {
   "cell_type": "code",
   "execution_count": 22,
   "metadata": {},
   "outputs": [
    {
     "name": "stdout",
     "output_type": "stream",
     "text": [
      "1\n",
      "1234567890\n",
      "True\n"
     ]
    }
   ],
   "source": [
    "n = int(input())\n",
    "for i in range(n):\n",
    "    num = input()\n",
    "    l=[]\n",
    "    for j in num:\n",
    "        k=int(j)\n",
    "        if k not in l:\n",
    "            l.append(k)\n",
    "    if len(l) == 10:\n",
    "        print(\"True\")\n",
    "    else:\n",
    "        print(\"False\")\n",
    "        "
   ]
  },
  {
   "cell_type": "code",
   "execution_count": 23,
   "metadata": {},
   "outputs": [
    {
     "name": "stdout",
     "output_type": "stream",
     "text": [
      "1\n",
      "2345678\n",
      "False\n"
     ]
    }
   ],
   "source": [
    "# By using Set\n",
    "\n",
    "n = int(input())\n",
    "for i in range(n):\n",
    "    num = input()\n",
    "    num =set(num)\n",
    "    if len(num) == 10:\n",
    "        print(\"True\")\n",
    "    else:\n",
    "        print(\"False\")"
   ]
  },
  {
   "cell_type": "code",
   "execution_count": 29,
   "metadata": {},
   "outputs": [
    {
     "name": "stdout",
     "output_type": "stream",
     "text": [
      "1\n",
      "sai sankar\n",
      "tbj tbolbs\n"
     ]
    }
   ],
   "source": [
    "n=int(input())\n",
    "for i in range(n):\n",
    "    s=input()\n",
    "    line=\"\"\n",
    "    for j in s:\n",
    "        if (ord(j)<ord('z') and ord(j) >= ord('a')) or (ord(j)<ord('Z') and ord(j)>=ord('A')):\n",
    "            line +=chr(ord(j)+1)\n",
    "        else:\n",
    "            line += j\n",
    "    print(line)"
   ]
  },
  {
   "cell_type": "markdown",
   "metadata": {},
   "source": [
    "https://regex101.com/\n",
    "\n",
    "^[a-z][0-9a-z_.]{5,25}[@][a-z][0-9a-z]{2,10}[.][a-z]{2,5}$"
   ]
  },
  {
   "cell_type": "code",
   "execution_count": 30,
   "metadata": {},
   "outputs": [
    {
     "name": "stdout",
     "output_type": "stream",
     "text": [
      "765487578475874838462303478\n",
      "False\n"
     ]
    }
   ],
   "source": [
    "import re\n",
    "condition = \"^(0123456789)$\"\n",
    "n=input()\n",
    "n=sorted(set(n))\n",
    "n=\"\".join(n)\n",
    "if re.match(condition,n):\n",
    "    print(True)\n",
    "else:\n",
    "    print(False)\n",
    "    "
   ]
  },
  {
   "cell_type": "code",
   "execution_count": 81,
   "metadata": {},
   "outputs": [
    {
     "name": "stdout",
     "output_type": "stream",
     "text": [
      "84567\n",
      "True\n"
     ]
    }
   ],
   "source": [
    "import re\n",
    "phonenumber=\"^[6-9][0-9]{4}$\"\n",
    "n=input()\n",
    "if re.match(phonenumber,n):\n",
    "    print(True)\n",
    "else:\n",
    "    print(False)\n",
    "    "
   ]
  },
  {
   "cell_type": "code",
   "execution_count": null,
   "metadata": {},
   "outputs": [],
   "source": [
    "import re\n"
   ]
  },
  {
   "cell_type": "code",
   "execution_count": 56,
   "metadata": {},
   "outputs": [
    {
     "data": {
      "text/plain": [
       "['a', 'zb', 'cba', 'sdfgh']"
      ]
     },
     "execution_count": 56,
     "metadata": {},
     "output_type": "execute_result"
    }
   ],
   "source": [
    "l=['a','cba','zb','sdfgh']\n",
    "l.sort(key=len)\n",
    "l"
   ]
  },
  {
   "cell_type": "code",
   "execution_count": 74,
   "metadata": {},
   "outputs": [
    {
     "name": "stdout",
     "output_type": "stream",
     "text": [
      "9\n",
      "[0, 1, 2, 3, 4, 5, 6, 7, 8]\n"
     ]
    }
   ],
   "source": [
    "a=int(input())\n",
    "l=[]\n",
    "for i in range(a):\n",
    "    l.append(i)\n",
    "print(l)"
   ]
  },
  {
   "cell_type": "code",
   "execution_count": 1,
   "metadata": {},
   "outputs": [
    {
     "name": "stdout",
     "output_type": "stream",
     "text": [
      "3\n",
      "1\n",
      "22\n"
     ]
    }
   ],
   "source": [
    "for i in range(1,int(input())): #More than 2 lines will result in 0 score. Do not leave a blank line also\n",
    "    print(((10**i)//9)*i)"
   ]
  },
  {
   "cell_type": "code",
   "execution_count": 4,
   "metadata": {},
   "outputs": [
    {
     "name": "stdout",
     "output_type": "stream",
     "text": [
      "7\n",
      "1\n",
      "2 2\n",
      "3 3 3\n",
      "4 4 4 4\n",
      "5 5 5 5 5\n",
      "6 6 6 6 6 6\n"
     ]
    }
   ],
   "source": [
    "for i in range(1,int(input())): #More than 2 lines will result in 0 score. Do not leave a blank line also\n",
    "    a=\" \".join([str(i)]*i)\n",
    "    #print(((10**i)//9)*i)\n",
    "    print(a)"
   ]
  },
  {
   "cell_type": "code",
   "execution_count": 7,
   "metadata": {},
   "outputs": [
    {
     "name": "stdout",
     "output_type": "stream",
     "text": [
      "7\n",
      "1\n",
      "2 2\n",
      "3 3 3\n",
      "4 4 4 4\n",
      "5 5 5 5 5\n",
      "6 6 6 6 6 6\n"
     ]
    }
   ],
   "source": [
    "for i in range(1,int(input())): #More than 2 lines will result in 0 score. Do not leave a blank line also\n",
    "    a=\" \".join([str(i)]*i)\n",
    "    #print(((10**i)//9)*i)\n",
    "    print(a)"
   ]
  },
  {
   "cell_type": "code",
   "execution_count": null,
   "metadata": {},
   "outputs": [
    {
     "name": "stdout",
     "output_type": "stream",
     "text": [
      "2\n",
      "1 44 2 14\n",
      "1 30\n",
      "3\n"
     ]
    }
   ],
   "source": [
    "a=int(input())\n",
    "for i in range(a):\n",
    "    s=list(map(int,input().split()))\n",
    "    print(abs(s[2]-s[0]),abs(s[3]-s[1]))\n",
    "    # print(s[2])"
   ]
  },
  {
   "cell_type": "code",
   "execution_count": 15,
   "metadata": {},
   "outputs": [
    {
     "name": "stdout",
     "output_type": "stream",
     "text": [
      "169.375\n"
     ]
    },
    {
     "data": {
      "text/plain": [
       "{154, 161, 167, 170, 171, 174, 176, 182}"
      ]
     },
     "execution_count": 15,
     "metadata": {},
     "output_type": "execute_result"
    }
   ],
   "source": [
    "# Input 10\n",
    "# set is {161 182 161 154 176 170 167 171 170 174}\n",
    "# output 169.375\n",
    "n = 10\n",
    "arr = {161,182,161,154,176,170,167,171,170,174}\n",
    "a=sum(arr)/len(arr)\n",
    "print(a)\n",
    "set(arr)"
   ]
  },
  {
   "cell_type": "code",
   "execution_count": 20,
   "metadata": {},
   "outputs": [
    {
     "name": "stdout",
     "output_type": "stream",
     "text": [
      "4\n",
      "12\n",
      "331\n",
      "681\n",
      "1157701\n",
      "8\n",
      "141\n",
      "3\n",
      "16\n"
     ]
    }
   ],
   "source": [
    "n= int(input())\n",
    "for i in range(n):\n",
    "    n1=int(input())\n",
    "    s=1\n",
    "    for j in range(2,n1+1):\n",
    "        s+= (j-1)*5\n",
    "    print(s)"
   ]
  },
  {
   "cell_type": "code",
   "execution_count": 21,
   "metadata": {},
   "outputs": [
    {
     "name": "stdout",
     "output_type": "stream",
     "text": [
      "2\n",
      "sai iam money yank\n",
      "Valid\n",
      "sai sai \n",
      "Invalid\n"
     ]
    }
   ],
   "source": [
    "n =int(input())\n",
    "for i in range(n):\n",
    "    s= input().split()\n",
    "    if len(s)==1:\n",
    "        print(\"Valid\")\n",
    "    else:\n",
    "        status = True\n",
    "        for i in range(1,len(s)):\n",
    "            word1 = s[i]\n",
    "            word2 =s[i-1]\n",
    "            if word1[0] != word2[-1]:\n",
    "                status = False\n",
    "        for i in s:\n",
    "            if s.count(i)>1:\n",
    "                status = False\n",
    "        if status:\n",
    "            print(\"Valid\")\n",
    "        else:\n",
    "            print(\"Invalid\")\n",
    "            "
   ]
  },
  {
   "cell_type": "code",
   "execution_count": null,
   "metadata": {},
   "outputs": [],
   "source": []
  }
 ],
 "metadata": {
  "kernelspec": {
   "display_name": "Python 3",
   "language": "python",
   "name": "python3"
  },
  "language_info": {
   "codemirror_mode": {
    "name": "ipython",
    "version": 3
   },
   "file_extension": ".py",
   "mimetype": "text/x-python",
   "name": "python",
   "nbconvert_exporter": "python",
   "pygments_lexer": "ipython3",
   "version": "3.7.3"
  }
 },
 "nbformat": 4,
 "nbformat_minor": 2
}
