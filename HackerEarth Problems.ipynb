{
 "cells": [
  {
   "cell_type": "code",
   "execution_count": 3,
   "metadata": {},
   "outputs": [
    {
     "name": "stdout",
     "output_type": "stream",
     "text": [
      "Sai\n",
      "sAI\n"
     ]
    }
   ],
   "source": [
    "# Toggle String\n",
    "a=input()\n",
    "print(a.swapcase())"
   ]
  },
  {
   "cell_type": "code",
   "execution_count": 8,
   "metadata": {},
   "outputs": [
    {
     "name": "stdout",
     "output_type": "stream",
     "text": [
      "aba\n"
     ]
    },
    {
     "data": {
      "text/plain": [
       "'Yes'"
      ]
     },
     "execution_count": 8,
     "metadata": {},
     "output_type": "execute_result"
    }
   ],
   "source": [
    "a=input()\n",
    "def pal():\n",
    "    if a==a[::-1]:\n",
    "        return 'YES'\n",
    "pal()\n"
   ]
  },
  {
   "cell_type": "code",
   "execution_count": 11,
   "metadata": {},
   "outputs": [
    {
     "name": "stdout",
     "output_type": "stream",
     "text": [
      "5\n",
      "4\n",
      "4\n"
     ]
    }
   ],
   "source": [
    "#Find Product\n",
    "\n",
    "b= int(input())\n",
    "\n",
    "a= list(map(int,input().split()))\n",
    "def Find_Product():\n",
    "    fact=1\n",
    "    for i in a:\n",
    "        fact=(fact*i)%((10**9)+7)\n",
    "    print(fact)\n",
    "Find_Product()"
   ]
  },
  {
   "cell_type": "code",
   "execution_count": 16,
   "metadata": {},
   "outputs": [
    {
     "name": "stdout",
     "output_type": "stream",
     "text": [
      "1 10 1\n",
      "10\n"
     ]
    }
   ],
   "source": [
    "a=list(map(int,input().split()))\n",
    "def Count_Divisors():\n",
    "    count=0\n",
    "    l= a[0]\n",
    "    r= a[1]\n",
    "    k= a[2]\n",
    "    for i in range(l,r+1):\n",
    "        if i % k == 0:\n",
    "            count=count+1\n",
    "    print(count)\n",
    "Count_Divisors()"
   ]
  },
  {
   "cell_type": "code",
   "execution_count": null,
   "metadata": {},
   "outputs": [],
   "source": [
    "# a=list(map(int,input().split()))\n",
    "\n",
    "def Roy_and_Profile_Picture(l,w,h):\n",
    "    if(w == h):\n",
    "        print(\"ACCEPTED\")\n",
    "    elif(w<l or h>=l):\n",
    "        print(\"upload another\")\n",
    "    else:\n",
    "         print(\"crop it\")\n",
    "n=int(input())\n",
    "m=int(input())\n",
    "\n",
    "for i in range(n):    \n",
    "    a=list(map(int,input().split()))\n",
    "    Roy_and_Profile_Picture(m,a[0],a[1])\n",
    "\n",
    "\n",
    "\n",
    "\n"
   ]
  },
  {
   "cell_type": "code",
   "execution_count": 3,
   "metadata": {},
   "outputs": [
    {
     "data": {
      "text/plain": [
       "122"
      ]
     },
     "execution_count": 3,
     "metadata": {},
     "output_type": "execute_result"
    }
   ],
   "source": [
    "ord(\"z\")"
   ]
  },
  {
   "cell_type": "code",
   "execution_count": 6,
   "metadata": {},
   "outputs": [
    {
     "name": "stdout",
     "output_type": "stream",
     "text": [
      "aba\n",
      "4\n"
     ]
    }
   ],
   "source": [
    "c = input()\n",
    "answer = 0\n",
    "z = ['a', 'b', 'c', 'd', 'e', 'f', 'g', 'h', 'i', 'j', 'k', 'l', 'm', 'n', 'o', 'p', 'q', 'r', 's', 't', 'u', 'v', 'w',\n",
    "     'x', 'y', 'z']\n",
    "for i in range(len(c)):\n",
    "    for j in range(len(z)):\n",
    "        if c[i] == z[j]:\n",
    "            answer += j+1\n",
    "        else:\n",
    "            continue\n",
    "print(answer)"
   ]
  },
  {
   "cell_type": "code",
   "execution_count": 7,
   "metadata": {},
   "outputs": [
    {
     "data": {
      "text/plain": [
       "97"
      ]
     },
     "execution_count": 7,
     "metadata": {},
     "output_type": "execute_result"
    }
   ],
   "source": [
    "ord(\"a\")"
   ]
  },
  {
   "cell_type": "code",
   "execution_count": 8,
   "metadata": {},
   "outputs": [
    {
     "name": "stdout",
     "output_type": "stream",
     "text": [
      "aba\n",
      "4\n"
     ]
    }
   ],
   "source": [
    "def charSum(s):\n",
    "    ch=0\n",
    "    for i in s:\n",
    "        ch=ch+ord(i)-96\n",
    "    print(ch)\n",
    "s=input()\n",
    "charSum(s)"
   ]
  },
  {
   "cell_type": "code",
   "execution_count": 4,
   "metadata": {},
   "outputs": [
    {
     "name": "stdout",
     "output_type": "stream",
     "text": [
      "4\n",
      "*   *\n",
      "*   *\n",
      "*****\n",
      "*   *\n",
      "*   *\n",
      "*****\n",
      "*   *\n",
      "*   *\n",
      "*****\n",
      "*   *\n",
      "*   *\n",
      "*****\n",
      "*   *\n",
      "*   *\n"
     ]
    }
   ],
   "source": [
    "a=int(input())\n",
    "for i in range(a):\n",
    "    print(\"*   *\")\n",
    "    print(\"*   *\")\n",
    "    print(\"*****\")\n",
    "print(\"*   *\")\n",
    "print(\"*   *\")    "
   ]
  },
  {
   "cell_type": "code",
   "execution_count": 7,
   "metadata": {},
   "outputs": [
    {
     "name": "stdout",
     "output_type": "stream",
     "text": [
      "\"as sd df \"dfgh fgh\" er ty\"\n",
      "as sd df dfgh\n",
      "fgh er ty\n"
     ]
    }
   ],
   "source": [
    "from shlex import split\n",
    "filename = input()\n",
    "filename = split(filename)\n",
    "for i in filename:\n",
    "    print(i)"
   ]
  },
  {
   "cell_type": "code",
   "execution_count": 9,
   "metadata": {},
   "outputs": [
    {
     "name": "stdout",
     "output_type": "stream",
     "text": [
      "LLRDDR\n",
      "0 -2\n"
     ]
    }
   ],
   "source": [
    "#x=y=0\n",
    "z=input()\n",
    "def maze(x,y):\n",
    "    for i in z:\n",
    "        if i == \"L\":\n",
    "            x=x-1\n",
    "        elif i == \"R\":\n",
    "            x=x+1\n",
    "        elif i == \"U\":\n",
    "            y=y+1\n",
    "        elif i == \"D\":\n",
    "            y=y-1\n",
    "    print(x,y)\n",
    "maze(0,0)"
   ]
  },
  {
   "cell_type": "code",
   "execution_count": null,
   "metadata": {},
   "outputs": [],
   "source": []
  }
 ],
 "metadata": {
  "kernelspec": {
   "display_name": "Python 3",
   "language": "python",
   "name": "python3"
  },
  "language_info": {
   "codemirror_mode": {
    "name": "ipython",
    "version": 3
   },
   "file_extension": ".py",
   "mimetype": "text/x-python",
   "name": "python",
   "nbconvert_exporter": "python",
   "pygments_lexer": "ipython3",
   "version": "3.7.3"
  }
 },
 "nbformat": 4,
 "nbformat_minor": 2
}
