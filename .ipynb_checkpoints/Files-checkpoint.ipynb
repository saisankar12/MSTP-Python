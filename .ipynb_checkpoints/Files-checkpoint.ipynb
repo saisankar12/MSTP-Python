{
 "cells": [
  {
   "cell_type": "markdown",
   "metadata": {},
   "source": [
    "# Files"
   ]
  },
  {
   "cell_type": "code",
   "execution_count": 7,
   "metadata": {},
   "outputs": [],
   "source": [
    "filepath = \"./firstfile.txt\"\n",
    "with open(filepath,'w') as f:\n",
    "    f.write(\"--> Good Morning! Welcome To Python \\n\")\n",
    "    f.write(\"--> This Is My Second Line\")"
   ]
  },
  {
   "cell_type": "code",
   "execution_count": 11,
   "metadata": {},
   "outputs": [
    {
     "name": "stdout",
     "output_type": "stream",
     "text": [
      "1\n",
      "2\n",
      "3\n",
      "4\n",
      "5\n",
      "6\n",
      "7\n",
      "8\n",
      "9\n",
      "10\n",
      "11\n",
      "12\n",
      "13\n",
      "14\n",
      "15\n"
     ]
    }
   ],
   "source": [
    "with open(filepath,'r') as f:\n",
    "    s=f.read() # Read all the lines in the file\n",
    "    print(s)"
   ]
  },
  {
   "cell_type": "code",
   "execution_count": 30,
   "metadata": {},
   "outputs": [
    {
     "name": "stdout",
     "output_type": "stream",
     "text": [
      "8\n"
     ]
    }
   ],
   "source": [
    "# Read Numbers from a file and sum them up\n",
    "import math\n",
    "with open(filepath,'r') as f:\n",
    "    #print(f.readline()) # Read all lines line by line\n",
    "    s = 0\n",
    "    c = 0\n",
    "    for i in f:\n",
    "        # print(int(i)) \n",
    "        s += int(i)\n",
    "        c += 1\n",
    "    # print(s//c)\n",
    "    print(math.floor(s/c))\n",
    "        \n",
    "    "
   ]
  },
  {
   "cell_type": "code",
   "execution_count": 15,
   "metadata": {},
   "outputs": [
    {
     "name": "stdout",
     "output_type": "stream",
     "text": [
      "['1\\n', '2\\n', '3\\n', '4\\n', '5\\n', '6\\n', '7\\n', '8\\n', '9\\n', '10\\n', '11\\n', '12\\n', '13\\n', '14\\n', '15']\n"
     ]
    }
   ],
   "source": [
    "with open(filepath,'r') as f:\n",
    "    print(f.readlines())"
   ]
  },
  {
   "cell_type": "code",
   "execution_count": 31,
   "metadata": {},
   "outputs": [
    {
     "name": "stdout",
     "output_type": "stream",
     "text": [
      "3\n"
     ]
    }
   ],
   "source": [
    "# Read count line in file\n",
    "\n",
    "with open(filepath,'r') as f:\n",
    "    linecount=0\n",
    "    for i in f:\n",
    "        linecount += 1\n",
    "    print(linecount)"
   ]
  },
  {
   "cell_type": "code",
   "execution_count": 34,
   "metadata": {},
   "outputs": [
    {
     "name": "stdout",
     "output_type": "stream",
     "text": [
      "53\n"
     ]
    }
   ],
   "source": [
    "# count Number of Words in a file\n",
    "\n",
    "with open(filepath,'r') as f:\n",
    "    wordcount =0\n",
    "    for i in f:\n",
    "        l = i.split(\" \")\n",
    "        wordcount +=len(l)\n",
    "    print(wordcount)"
   ]
  },
  {
   "cell_type": "code",
   "execution_count": 38,
   "metadata": {},
   "outputs": [
    {
     "name": "stdout",
     "output_type": "stream",
     "text": [
      "['A', 'tuple', 'is', 'a', 'collection', 'which', 'is', 'ordered', 'and', 'unchangeable.', 'In', 'Python', 'tuples', 'are', 'written', 'with', 'round', 'brackets.\\nTuples', 'are', 'unchangeable,', 'so', 'you', 'cannot', 'remove', 'items', 'from', 'it,', 'but', 'you', 'can', 'delete', 'the', 'tuple', 'completely:\\nOur', '\"Show', 'Python\"', 'tool', 'makes', 'it', 'easy', 'to', 'learn', 'Python,', 'it', 'shows', 'both', 'the', 'code', 'and', 'the', 'result.']\n"
     ]
    }
   ],
   "source": [
    "with open(filepath,'r') as f:\n",
    "    s= f.read().split(\" \")\n",
    "    # print(len(s))\n",
    "    print(s)"
   ]
  },
  {
   "cell_type": "code",
   "execution_count": 39,
   "metadata": {},
   "outputs": [
    {
     "name": "stdout",
     "output_type": "stream",
     "text": [
      "['A tuple is a collection which is ordered and unchangeable. In Python tuples are written with round brackets.\\n', 'Tuples are unchangeable, so you cannot remove items from it, but you can delete the tuple completely:\\n', 'Our \"Show Python\" tool makes it easy to learn Python, it shows both the code and the result.']\n"
     ]
    }
   ],
   "source": [
    "with open(filepath,'r') as f:\n",
    "    s= f.readlines()\n",
    "    # print(len(s))\n",
    "    print(s)"
   ]
  },
  {
   "cell_type": "code",
   "execution_count": 48,
   "metadata": {},
   "outputs": [
    {
     "name": "stdout",
     "output_type": "stream",
     "text": [
      "['A', 'tuple', 'is', 'a', 'collection', 'which', 'is', 'ordered', 'and', 'unchangeable.', 'In', 'Python', 'tuples', 'are', 'written', 'with', 'round', 'brackets.', 'Tuples', 'are', 'unchangeable,', 'so', 'you', 'cannot', 'remove', 'items', 'from', 'it,', 'but', 'you', 'can', 'delete', 'the', 'tuple', 'completely:', 'Our', '\"Show', 'Python\"', 'tool', 'makes', 'it', 'easy', 'to', 'learn', 'Python,', 'it', 'shows', 'both', 'the', 'code', 'and', 'the', 'result.']\n"
     ]
    }
   ],
   "source": [
    "with open(filepath,'r') as f:\n",
    "    s= f.read().split('\\n')\n",
    "    s= \" \".join(s).split(\" \")\n",
    "    # print(len(s))\n",
    "    print(s)"
   ]
  },
  {
   "cell_type": "code",
   "execution_count": 50,
   "metadata": {},
   "outputs": [
    {
     "data": {
      "text/plain": [
       "'Praneeth is a programmer'"
      ]
     },
     "execution_count": 50,
     "metadata": {},
     "output_type": "execute_result"
    }
   ],
   "source": [
    "l = ['Praneeth',\"is\",\"a\",\"programmer\"]\n",
    "s = \" \".join(l)\n",
    "s"
   ]
  },
  {
   "cell_type": "code",
   "execution_count": 54,
   "metadata": {},
   "outputs": [
    {
     "name": "stdout",
     "output_type": "stream",
     "text": [
      "A tuple is a collection which is ordered and unchangeable. In Python tuples are written with round brackets.\n",
      " Tuples are unchangeable, so you cannot remove items from it, but you can delete the tuple completely:\n",
      " Our \"Show Python\" tool makes it easy to learn Python, it shows both the code and the result.\n"
     ]
    }
   ],
   "source": [
    "# Character Count\n",
    "\n",
    "with open(filepath,'r') as f:\n",
    "    charcount=0\n",
    "    \"\"\"for i in f:\n",
    "        s=list(i)\n",
    "        print(s)\"\"\"\n",
    "    # s=list(f.read())\n",
    "    s = f.readlines()\n",
    "    s = \" \".join(s)\n",
    "    print(s)"
   ]
  },
  {
   "cell_type": "code",
   "execution_count": 71,
   "metadata": {},
   "outputs": [
    {
     "name": "stdout",
     "output_type": "stream",
     "text": [
      "251\n"
     ]
    }
   ],
   "source": [
    "with open(filepath,'r') as f:\n",
    "    charcount=0\n",
    "    for i in f:\n",
    "        s = i.split()\n",
    "        for j in s:\n",
    "            charcount += len(j)\n",
    "    print(charcount)"
   ]
  },
  {
   "cell_type": "code",
   "execution_count": 72,
   "metadata": {},
   "outputs": [
    {
     "name": "stdout",
     "output_type": "stream",
     "text": [
      "251\n"
     ]
    }
   ],
   "source": [
    "with open(filepath,'r') as f:\n",
    "    charcount=0\n",
    "    for i in f:\n",
    "        s = i.split()\n",
    "        s =\" \".join(i).split()\n",
    "        charcount += len(s)\n",
    "    print(charcount)"
   ]
  },
  {
   "cell_type": "code",
   "execution_count": null,
   "metadata": {},
   "outputs": [],
   "source": []
  }
 ],
 "metadata": {
  "kernelspec": {
   "display_name": "Python 3",
   "language": "python",
   "name": "python3"
  },
  "language_info": {
   "codemirror_mode": {
    "name": "ipython",
    "version": 3
   },
   "file_extension": ".py",
   "mimetype": "text/x-python",
   "name": "python",
   "nbconvert_exporter": "python",
   "pygments_lexer": "ipython3",
   "version": "3.7.3"
  }
 },
 "nbformat": 4,
 "nbformat_minor": 2
}
