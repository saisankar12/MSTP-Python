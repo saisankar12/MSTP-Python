{
 "cells": [
  {
   "cell_type": "markdown",
   "metadata": {},
   "source": [
    "# Python Functions\n",
    "\n",
    "A function is a block of code which only runs when it is called.\n",
    "\n",
    "You can pass data, known as parameters, into a function.\n",
    "\n",
    "A function can return data as a result.\n",
    "\n",
    "- Reasubility\n",
    "- To Perform Specific Task\n",
    "- Passing Parameter and return result"
   ]
  },
  {
   "cell_type": "markdown",
   "metadata": {},
   "source": [
    "def fun_name(par1,par2,par3...parn):\n",
    "    #function body\n",
    "    \n",
    "fun_name(arg1,arg2,arg3...argn)\n"
   ]
  },
  {
   "cell_type": "code",
   "execution_count": 13,
   "metadata": {},
   "outputs": [
    {
     "name": "stdout",
     "output_type": "stream",
     "text": [
      "Enter A Value is : 34\n",
      "Enter B Value is : 45\n",
      "79\n"
     ]
    }
   ],
   "source": [
    "# Passing Parameter and Return Nothing\n",
    "\n",
    "a=int(input(\"Enter A Value is : \"))\n",
    "b=int(input(\"Enter B Value is : \"))\n",
    "def add(a,b):\n",
    "    print(a+b)\n",
    "    return\n",
    "add(a,b)"
   ]
  },
  {
   "cell_type": "code",
   "execution_count": 1,
   "metadata": {},
   "outputs": [
    {
     "name": "stdout",
     "output_type": "stream",
     "text": [
      "Enter A Value is : 23\n",
      "Enter B Value is : 45\n"
     ]
    },
    {
     "data": {
      "text/plain": [
       "68"
      ]
     },
     "execution_count": 1,
     "metadata": {},
     "output_type": "execute_result"
    }
   ],
   "source": [
    "# Passing arguments and return result\n",
    "\n",
    "a=int(input(\"Enter A Value is : \"))\n",
    "b=int(input(\"Enter B Value is : \"))\n",
    "def add(a,b):\n",
    "    return a+b\n",
    "add(a,b)"
   ]
  },
  {
   "cell_type": "code",
   "execution_count": 3,
   "metadata": {},
   "outputs": [
    {
     "name": "stdout",
     "output_type": "stream",
     "text": [
      "Enter Value : 6\n"
     ]
    },
    {
     "data": {
      "text/plain": [
       "True"
      ]
     },
     "execution_count": 3,
     "metadata": {},
     "output_type": "execute_result"
    }
   ],
   "source": [
    "n=int(input(\"Enter Value : \"))\n",
    "def isEven(n):\n",
    "    if n%2==0:\n",
    "        #print(\"Even\")\n",
    "        return True\n",
    "    else:\n",
    "        #print(\"Odd\")\n",
    "        return False\n",
    "isEven(n)"
   ]
  },
  {
   "cell_type": "code",
   "execution_count": 7,
   "metadata": {},
   "outputs": [
    {
     "name": "stdout",
     "output_type": "stream",
     "text": [
      "Enter Value : 34\n"
     ]
    },
    {
     "data": {
      "text/plain": [
       "'Even'"
      ]
     },
     "execution_count": 7,
     "metadata": {},
     "output_type": "execute_result"
    }
   ],
   "source": [
    "n=int(input(\"Enter Value : \"))\n",
    "def isEven(n):\n",
    "    if n%2==0:\n",
    "        return \"Even\"\n",
    "    return \"odd\"\n",
    "isEven(n)"
   ]
  },
  {
   "cell_type": "code",
   "execution_count": 74,
   "metadata": {},
   "outputs": [
    {
     "name": "stdout",
     "output_type": "stream",
     "text": [
      "Enter Value : 7\n"
     ]
    },
    {
     "data": {
      "text/plain": [
       "'Prime'"
      ]
     },
     "execution_count": 74,
     "metadata": {},
     "output_type": "execute_result"
    }
   ],
   "source": [
    "n=int(input(\"Enter Value : \"))\n",
    "def isPrime(n):\n",
    "    for i in range(2,n):\n",
    "        if (n%i)==0:\n",
    "            return \"Not Prime\"\n",
    "    return \"Prime\"\n",
    "isPrime(n)"
   ]
  },
  {
   "cell_type": "code",
   "execution_count": 4,
   "metadata": {},
   "outputs": [
    {
     "data": {
      "text/plain": [
       "24"
      ]
     },
     "execution_count": 4,
     "metadata": {},
     "output_type": "execute_result"
    }
   ],
   "source": [
    "def fact(n):\n",
    "    f=1\n",
    "    if isEven(n):\n",
    "        for i in range(1,n+1):\n",
    "            f=f*i\n",
    "        return f\n",
    "    else:\n",
    "        return \"No\"\n",
    "fact(4)"
   ]
  },
  {
   "cell_type": "code",
   "execution_count": 8,
   "metadata": {},
   "outputs": [],
   "source": [
    "#\n",
    "def sumOfNumbers(numbers):\n",
    "    total_marks = 0\n",
    "    for each_number in numbers:\n",
    "        total_marks += each_number\n",
    "    return total_marks\n"
   ]
  },
  {
   "cell_type": "code",
   "execution_count": 10,
   "metadata": {},
   "outputs": [
    {
     "name": "stdout",
     "output_type": "stream",
     "text": [
      "225\n"
     ]
    }
   ],
   "source": [
    "marks=[34,45,56,67,23]\n",
    "print(sumOfNumbers(marks))"
   ]
  },
  {
   "cell_type": "code",
   "execution_count": null,
   "metadata": {},
   "outputs": [],
   "source": []
  }
 ],
 "metadata": {
  "kernelspec": {
   "display_name": "Python 3",
   "language": "python",
   "name": "python3"
  },
  "language_info": {
   "codemirror_mode": {
    "name": "ipython",
    "version": 3
   },
   "file_extension": ".py",
   "mimetype": "text/x-python",
   "name": "python",
   "nbconvert_exporter": "python",
   "pygments_lexer": "ipython3",
   "version": "3.7.3"
  }
 },
 "nbformat": 4,
 "nbformat_minor": 2
}
